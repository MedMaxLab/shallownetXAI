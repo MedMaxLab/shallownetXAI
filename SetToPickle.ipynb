{
 "cells": [
  {
   "cell_type": "code",
   "execution_count": 7,
   "id": "78a2c981",
   "metadata": {},
   "outputs": [],
   "source": [
    "import glob\n",
    "import numpy as np \n",
    "import mne\n",
    "import pandas as pd\n",
    "import os\n",
    "import pickle"
   ]
  },
  {
   "cell_type": "code",
   "execution_count": null,
   "id": "017cc7c7",
   "metadata": {},
   "outputs": [],
   "source": [
    "dataset_path = '/data/zanola/BrainLats/'\n",
    "\n",
    "file_paths = glob.glob(dataset_path+\"*/*/sub-*/eeg/*.set\")\n",
    "dataset_lookup = {}\n",
    "for path in file_paths:\n",
    "    parts = os.path.normpath(path).split(os.sep)\n",
    "    coorte = parts[-5]\n",
    "    soggetto = parts[-3]\n",
    "    dataset_lookup[(coorte, soggetto)] = path"
   ]
  },
  {
   "cell_type": "code",
   "execution_count": null,
   "id": "7c8fe6f0",
   "metadata": {},
   "outputs": [],
   "source": [
    "#Salvo tutti i file.set di CN,FTD,AD\n",
    "file_list_CN= glob.glob(dataset_path+'5_HC/*/sub-*/eeg/*.set')\n",
    "file_list_FTD= glob.glob(dataset_path+'2_bvFTD/*/sub-*/eeg/*.set')\n",
    "file_list_AD = glob.glob(dataset_path+'1_AD/*/sub-*/eeg/*.set')\n",
    "\n",
    "#Funzione che analizza file\n",
    "def analizza_file_eeglab(f):\n",
    "    raw = mne.io.read_raw_eeglab(f, preload=False)\n",
    "    fdt_paths = [fname for fname in raw.filenames if fname and fname.endswith('.fdt')]\n",
    "    return {\n",
    "        'is_standalone': len(fdt_paths) == 0,\n",
    "        'fdt_path': fdt_paths[0] if fdt_paths else 'NaN'\n",
    "    }\n",
    "#Funzione che carica file:\n",
    "list_CN=[]\n",
    "list_FTD=[]\n",
    "list_AD=[]\n",
    "info_CN=[]\n",
    "info_FTD=[]\n",
    "info_AD=[]\n",
    "def carica_file(file_list, lista_dati, lista_info, gruppo):\n",
    "    log_errori = []\n",
    "\n",
    "    for f in file_list:\n",
    "        try:\n",
    "            if analizza_file_eeglab(f)['is_standalone']:\n",
    "                data = mne.io.read_raw_eeglab(f, preload=True,verbose=False)\n",
    "                status = 'standalone'\n",
    "                referenced_fdt = analizza_file_eeglab(f)['fdt_path']\n",
    "            else:\n",
    "                data = mne.io.read_raw_eeglab(f, preload=False,verbose=False)\n",
    "                data.load_data()\n",
    "                status = 'non-standalone'\n",
    "                referenced_fdt = analizza_file_eeglab(f)['fdt_path']\n",
    "\n",
    "        except Exception as e:\n",
    "            log_errori.append({\n",
    "                'file': f,\n",
    "                'errore': str(e),\n",
    "                'status': 'non-standalone ma linka a file.fdt inesistente',\n",
    "                'path_fdt': referenced_fdt,\n",
    "                'group': gruppo\n",
    "            })\n",
    "            #print(f\"Errore con {f}: {e}\")\n",
    "            continue\n",
    "\n",
    "        lista_dati.append(data)\n",
    "        lista_info.append({\n",
    "            'file': f,\n",
    "            'status': status,\n",
    "            'path_fdt': referenced_fdt,\n",
    "            'group': gruppo\n",
    "        })\n",
    "    return log_errori   \n",
    "log_errori_CN = carica_file(file_list_CN, list_CN, info_CN, 'CN')\n",
    "log_errori_FTD = carica_file(file_list_FTD, list_FTD, info_FTD, 'FTD')\n",
    "log_errori_AD = carica_file(file_list_AD, list_AD, info_AD, 'AD')\n",
    "\n",
    "#Creo dataframe con file con errori, dataframe validi, dataframe completo(ordinato in base all'ordine dei file originali)\n",
    "df_errori = pd.DataFrame(log_errori_CN + log_errori_FTD + log_errori_AD)\n",
    "\n",
    "df_validi = pd.DataFrame(info_CN + info_FTD + info_AD)\n",
    "\n",
    "df_completo = pd.concat([df_validi, df_errori], ignore_index=True)\n",
    "file_list_tutti = file_list_CN + file_list_FTD + file_list_AD\n",
    "df_completo['ordine'] = df_completo['file'].apply(lambda x: file_list_tutti.index(x) if x in file_list_tutti else -1)\n",
    "df_completo = df_completo.sort_values('ordine').reset_index(drop=True)\n",
    "df_completo = df_completo.drop(columns='ordine')\n",
    "\n",
    "#Visualizzo dataframe completo\n",
    "display(df_completo)"
   ]
  },
  {
   "cell_type": "code",
   "execution_count": null,
   "id": "3b8e027a",
   "metadata": {},
   "outputs": [
    {
     "data": {
      "text/plain": [
       "'5_HC'"
      ]
     },
     "execution_count": 42,
     "metadata": {},
     "output_type": "execute_result"
    }
   ],
   "source": [
    "path.split(os.sep)[4][0]"
   ]
  },
  {
   "cell_type": "code",
   "execution_count": null,
   "id": "3f9a4cf3",
   "metadata": {},
   "outputs": [],
   "source": [
    "pickle_path = '/data/zanola/BrainLats_pickle/'\n",
    "\n",
    "a_id = []\n",
    "c_id = []\n",
    "f_id = []\n",
    "\n",
    "for i in range(len(df_validi)):\n",
    "    raw=mne.io.read_raw_eeglab(df_validi['file'][i], verbose = False,\n",
    "                            preload=True)\n",
    "\n",
    "    raw = raw.resample(125)\n",
    "\n",
    "    print(np.shape(raw.get_data())[0])\n",
    "\n",
    "    EEGpickle = {}\n",
    "    EEGpickle['data'] = raw.get_data()*(10**6)\n",
    "    EEGpickle['label' ]= conv[df_validi['group'][i]]\n",
    "\n",
    "    index = file_paths.index(df_validi['file'][i])\n",
    "\n",
    "    if df_validi['group'][i]=='CN':\n",
    "        c_id.append(index)\n",
    "    elif df_validi['group'][i]=='AD':\n",
    "        a_id.append(index)\n",
    "    else:\n",
    "        f_id.append(index)\n",
    "\n",
    "    string = '26_' + str(index+1) + '_1_1.pkl'\n",
    "\n",
    "    # with open(pickle_path+string, \"wb\") as f:\n",
    "    #     pickle.dump(EEGpickle, f)\n",
    "\n"
   ]
  },
  {
   "cell_type": "code",
   "execution_count": 10,
   "id": "6f5a24c8",
   "metadata": {},
   "outputs": [
    {
     "data": {
      "text/plain": [
       "2"
      ]
     },
     "execution_count": 10,
     "metadata": {},
     "output_type": "execute_result"
    }
   ],
   "source": [
    "pickle_path = '/data/zanola/BrainLats_pickle/icasr/'\n",
    "string = '26_301_1_1.pickle'\n",
    "with open(pickle_path+string, \"rb\") as f:\n",
    "    data = pickle.load(f)\n",
    "\n",
    "data['label']"
   ]
  },
  {
   "cell_type": "code",
   "execution_count": null,
   "id": "44fdf3cc",
   "metadata": {},
   "outputs": [],
   "source": [
    "df_validi"
   ]
  },
  {
   "cell_type": "code",
   "execution_count": 53,
   "id": "abec4bde",
   "metadata": {},
   "outputs": [
    {
     "data": {
      "text/plain": [
       "1"
      ]
     },
     "execution_count": 53,
     "metadata": {},
     "output_type": "execute_result"
    }
   ],
   "source": [
    "int(label[0])"
   ]
  },
  {
   "cell_type": "code",
   "execution_count": 77,
   "id": "8b646960",
   "metadata": {},
   "outputs": [
    {
     "name": "stdout",
     "output_type": "stream",
     "text": [
      "start reading EEG from brainlat\n",
      "/data/zanola/BrainLats/1_AD/AR/sub-30001/eeg/s6_sub-30001_rs-HEP_eeg.set 26_301_1_1 1_AD 301 (128, 78111)\n",
      "/data/zanola/BrainLats/1_AD/AR/sub-30002/eeg/s6_sub-30002_rs-HEP_eeg.set 26_302_1_1 1_AD 302 (128, 80827)\n",
      "/data/zanola/BrainLats/1_AD/CL/sub-30003/eeg/s6_sub-30003_rs-HEP_eeg.set 26_303_1_1 1_AD 303 (128, 109598)\n",
      "/data/zanola/BrainLats/1_AD/AR/sub-30004/eeg/s6_sub-30004_rs-HEP_eeg.set 26_304_1_1 1_AD 304 (128, 71251)\n",
      "/data/zanola/BrainLats/1_AD/CL/sub-30005/eeg/s6_sub-30005_rs-HEP_eeg.set 26_305_1_1 1_AD 305 (128, 145378)\n",
      "/data/zanola/BrainLats/1_AD/CL/sub-30006/eeg/s6_sub-30006_rs-HEP_eeg.set 26_306_1_1 1_AD 306 (128, 155066)\n",
      "/data/zanola/BrainLats/1_AD/CL/sub-30007/eeg/s6_sub-30007_rs-HEP_eeg.set 26_307_1_1 1_AD 307 (128, 126362)\n",
      "/data/zanola/BrainLats/1_AD/AR/sub-30008/eeg/s6_sub-30008_rs-HEP_eeg.set 26_308_1_1 1_AD 308 (128, 78580)\n",
      "/data/zanola/BrainLats/1_AD/AR/sub-30009/eeg/s6_sub-30009_rs-HEP_eeg.set 26_309_1_1 1_AD 309 (128, 101090)\n",
      "/data/zanola/BrainLats/1_AD/CL/sub-30010/eeg/s6_sub-30010_rs-HEP_eeg.set 26_310_1_1 1_AD 310 (128, 118202)\n",
      "/data/zanola/BrainLats/1_AD/AR/sub-30011/eeg/s6_sub-30011_rs-HEP_eeg.set 26_311_1_1 1_AD 311 (128, 35312)\n",
      "/data/zanola/BrainLats/1_AD/AR/sub-30012/eeg/s6_sub-30012_rs-HEP_eeg.set 26_312_1_1 1_AD 312 (128, 56941)\n",
      "/data/zanola/BrainLats/1_AD/AR/sub-30013/eeg/s6_sub-30013_rs-HEP_eeg.set 26_313_1_1 1_AD 313 (128, 92661)\n",
      "/data/zanola/BrainLats/1_AD/CL/sub-30014/eeg/s6_sub-30014_rs-HEP_eeg.set 26_314_1_1 1_AD 314 (128, 136292)\n",
      "/data/zanola/BrainLats/1_AD/AR/sub-30015/eeg/s6_sub-30015_rs-HEP_eeg.set 26_315_1_1 1_AD 315 (128, 40402)\n",
      "/data/zanola/BrainLats/1_AD/CL/sub-30016/eeg/s6_sub-30016_rs-HEP_eeg.set 26_316_1_1 1_AD 316 (128, 120380)\n",
      "/data/zanola/BrainLats/1_AD/AR/sub-30017/eeg/s6_sub-30017_rs-HEP_eeg.set 26_317_1_1 1_AD 317 (128, 62461)\n",
      "/data/zanola/BrainLats/1_AD/AR/sub-30018/eeg/s6_sub-30018_rs-HEP_eeg.set 26_318_1_1 1_AD 318 (128, 105948)\n",
      "/data/zanola/BrainLats/1_AD/CL/sub-30019/eeg/s6_sub-30019_rs-HEP_eeg.set 26_319_1_1 1_AD 319 (128, 131956)\n",
      "/data/zanola/BrainLats/1_AD/AR/sub-30020/eeg/s6_sub-30020_rs-HEP_eeg.set 26_320_1_1 1_AD 320 (128, 86354)\n",
      "/data/zanola/BrainLats/1_AD/CL/sub-30021/eeg/s6_sub-30021_rs-HEP_eeg.set 26_321_1_1 1_AD 321 (128, 90460)\n",
      "/data/zanola/BrainLats/1_AD/AR/sub-30022/eeg/s6_sub-30022_rs-HEP_eeg.set 26_322_1_1 1_AD 322 (128, 104107)\n",
      "/data/zanola/BrainLats/1_AD/CL/sub-30023/eeg/s6_sub-30023_rs-HEP_eeg.set 26_323_1_1 1_AD 323 (128, 41436)\n",
      "/data/zanola/BrainLats/1_AD/CL/sub-30024/eeg/s6_sub-30024_rs-HEP_eeg.set 26_324_1_1 1_AD 324 (128, 142004)\n",
      "/data/zanola/BrainLats/1_AD/CL/sub-30025/eeg/s6_sub-30025_rs-HEP_eeg.set 26_325_1_1 1_AD 325 (128, 151850)\n",
      "/data/zanola/BrainLats/1_AD/AR/sub-30026/eeg/s6_sub-30026_rs-HEP_eeg.set 26_326_1_1 1_AD 326 (128, 99101)\n",
      "/data/zanola/BrainLats/1_AD/CL/sub-30027/eeg/s6_sub-30027_rs-HEP_eeg.set 26_327_1_1 1_AD 327 (128, 169436)\n",
      "/data/zanola/BrainLats/1_AD/CL/sub-30028/eeg/s6_sub-30028_rs-HEP_eeg.set 26_328_1_1 1_AD 328 (128, 144775)\n",
      "/data/zanola/BrainLats/1_AD/AR/sub-30029/eeg/s6_sub-30029_rs-HEP_eeg.set 26_329_1_1 1_AD 329 (128, 113678)\n",
      "/data/zanola/BrainLats/1_AD/CL/sub-30030/eeg/s6_sub-30030_rs-HEP_eeg.set 26_330_1_1 1_AD 330 (128, 124610)\n",
      "/data/zanola/BrainLats/1_AD/AR/sub-30031/eeg/s6_sub-30031_rs-HEP_eeg.set 26_331_1_1 1_AD 331 (128, 103150)\n",
      "/data/zanola/BrainLats/1_AD/CL/sub-30032/eeg/s6_sub-30032_rs-HEP_eeg.set 26_332_1_1 1_AD 332 (128, 140069)\n",
      "/data/zanola/BrainLats/1_AD/CL/sub-30033/eeg/s6_sub-30033_rs-HEP_eeg.set 26_333_1_1 1_AD 333 (128, 124724)\n",
      "/data/zanola/BrainLats/1_AD/CL/sub-30034/eeg/s6_sub-30034_rs-HEP_eeg.set 26_334_1_1 1_AD 334 (128, 145054)\n",
      "/data/zanola/BrainLats/1_AD/CL/sub-30035/eeg/s6_sub-30035_rs-HEP_eeg.set 26_335_1_1 1_AD 335 (128, 103643)\n",
      "/data/zanola/BrainLats/2_bvFTD/AR/sub-20001/eeg/s6_sub-20001_rs-HEP_eeg.set 26_201_1_1 2_bvFTD 201 (128, 147957)\n",
      "/data/zanola/BrainLats/2_bvFTD/CL/sub-20002/eeg/s6_sub-20002_rs-HEP_eeg.set 26_202_1_1 2_bvFTD 202 (128, 150121)\n",
      "/data/zanola/BrainLats/2_bvFTD/AR/sub-20003/eeg/s6_sub-20003_rs-HEP_eeg.set 26_203_1_1 2_bvFTD 203 (128, 115431)\n",
      "/data/zanola/BrainLats/2_bvFTD/CL/sub-20004/eeg/s6_sub-20004_rs-HEP_eeg.set 26_204_1_1 2_bvFTD 204 (128, 119910)\n",
      "/data/zanola/BrainLats/2_bvFTD/CL/sub-20005/eeg/s6_sub-20005_rs-HEP_eeg.set 26_205_1_1 2_bvFTD 205 (128, 152106)\n",
      "/data/zanola/BrainLats/2_bvFTD/AR/sub-20006/eeg/s6_sub-20006_rs-HEP_eeg.set 26_206_1_1 2_bvFTD 206 (128, 49097)\n",
      "/data/zanola/BrainLats/2_bvFTD/CL/sub-20007/eeg/s6_sub-20007_rs-HEP_eeg.set 26_207_1_1 2_bvFTD 207 (128, 110152)\n",
      "/data/zanola/BrainLats/2_bvFTD/CL/sub-20008/eeg/s6_sub-20008_rs-HEP_eeg.set 26_208_1_1 2_bvFTD 208 (128, 92915)\n",
      "/data/zanola/BrainLats/2_bvFTD/AR/sub-20009/eeg/s6_sub-20009_rs-HEP_eeg.set 26_209_1_1 2_bvFTD 209 (128, 60104)\n",
      "/data/zanola/BrainLats/2_bvFTD/AR/sub-20010/eeg/s6_sub-20010_rs-HEP_eeg.set 26_210_1_1 2_bvFTD 210 (128, 67122)\n",
      "/data/zanola/BrainLats/2_bvFTD/CL/sub-20011/eeg/s6_sub-20011_rs-HEP_eeg.set 26_211_1_1 2_bvFTD 211 (128, 104648)\n",
      "/data/zanola/BrainLats/2_bvFTD/AR/sub-20012/eeg/s6_sub-20012_rs-HEP_eeg.set 26_212_1_1 2_bvFTD 212 (128, 78327)\n",
      "/data/zanola/BrainLats/2_bvFTD/AR/sub-20013/eeg/s6_sub-20013_rs-HEP_eeg.set 26_213_1_1 2_bvFTD 213 (128, 17652)\n",
      "/data/zanola/BrainLats/2_bvFTD/AR/sub-20014/eeg/s6_sub-20014_rs-HEP_eeg.set 26_214_1_1 2_bvFTD 214 (128, 56152)\n",
      "/data/zanola/BrainLats/2_bvFTD/AR/sub-20015/eeg/s6_sub-20015_rs-HEP_eeg.set 26_215_1_1 2_bvFTD 215 (128, 117598)\n",
      "/data/zanola/BrainLats/2_bvFTD/AR/sub-20016/eeg/s6_sub-20016_rs-HEP_eeg.set 26_216_1_1 2_bvFTD 216 (128, 106600)\n",
      "/data/zanola/BrainLats/2_bvFTD/AR/sub-20017/eeg/s6_sub-20017_rs-HEP_eeg.set 26_217_1_1 2_bvFTD 217 (128, 70662)\n",
      "/data/zanola/BrainLats/2_bvFTD/AR/sub-20018/eeg/s6_sub-20018_rs-HEP_eeg.set 26_218_1_1 2_bvFTD 218 (128, 113149)\n",
      "/data/zanola/BrainLats/2_bvFTD/AR/sub-20019/eeg/s6_sub-20019_rs-HEP_eeg.set 26_219_1_1 2_bvFTD 219 (128, 102886)\n",
      "Cannot read file at path /3_PD/CL/sub-40001/eeg/s40001_CH_PD_reject.set\n",
      "Cannot read file at path /3_PD/AR/sub-40001/eeg/s40001_AR_PD_reject.set\n",
      "Cannot read file at path /3_PD/CL/sub-40004/eeg/s40004_CH_PD_reject.set\n"
     ]
    },
    {
     "name": "stderr",
     "output_type": "stream",
     "text": [
      "/tmp/ipykernel_2331099/1742952222.py:17: RuntimeWarning: Data file name in EEG.data (s6_sub-10005_rs_eeg.fdt) is incorrect, the file name must have changed on disk, using the correct file name (sub-40005_rs_eeg.fdt).\n",
      "  data = mne.io.read_raw_eeglab(path, preload=True, verbose=False)\n"
     ]
    },
    {
     "name": "stdout",
     "output_type": "stream",
     "text": [
      "/data/zanola/BrainLats/3_PD/CL/sub-40005/eeg/sub-40005_rs_eeg.set 26_405_1_1 3_PD 405 (128, 128500)\n",
      "Cannot read file at path /3_PD/CL/sub-40006/eeg/s40006_CH_PD_reject.set\n",
      "Cannot read file at path /3_PD/AR/sub-40006/eeg/s40006_AR_PD_reject.set\n"
     ]
    },
    {
     "name": "stderr",
     "output_type": "stream",
     "text": [
      "/tmp/ipykernel_2331099/1742952222.py:17: RuntimeWarning: Data file name in EEG.data (s6_sub-10007_rs_eeg.fdt) is incorrect, the file name must have changed on disk, using the correct file name (sub-40007_rs_eeg.fdt).\n",
      "  data = mne.io.read_raw_eeglab(path, preload=True, verbose=False)\n"
     ]
    },
    {
     "name": "stdout",
     "output_type": "stream",
     "text": [
      "/data/zanola/BrainLats/3_PD/CL/sub-40007/eeg/sub-40007_rs_eeg.set 26_407_1_1 3_PD 407 (128, 202500)\n"
     ]
    },
    {
     "name": "stderr",
     "output_type": "stream",
     "text": [
      "/tmp/ipykernel_2331099/1742952222.py:17: RuntimeWarning: Data file name in EEG.data (s6_sub-10008_rs_eeg.fdt) is incorrect, the file name must have changed on disk, using the correct file name (sub-40008_rs_eeg.fdt).\n",
      "  data = mne.io.read_raw_eeglab(path, preload=True, verbose=False)\n"
     ]
    },
    {
     "name": "stdout",
     "output_type": "stream",
     "text": [
      "/data/zanola/BrainLats/3_PD/CL/sub-40008/eeg/sub-40008_rs_eeg.set 26_408_1_1 3_PD 408 (128, 115250)\n",
      "Cannot read file at path /3_PD/AR/sub-40008/eeg/s40008_AR_PD_reject.set\n",
      "Cannot read file at path /3_PD/CL/sub-40009/eeg/s40009_CH_PD_reject.set\n"
     ]
    },
    {
     "name": "stderr",
     "output_type": "stream",
     "text": [
      "/tmp/ipykernel_2331099/1742952222.py:17: RuntimeWarning: Data file name in EEG.data (s6_sub-100010_rs_eeg.fdt) is incorrect, the file name must have changed on disk, using the correct file name (sub-40010_rs_eeg.fdt).\n",
      "  data = mne.io.read_raw_eeglab(path, preload=True, verbose=False)\n"
     ]
    },
    {
     "name": "stdout",
     "output_type": "stream",
     "text": [
      "/data/zanola/BrainLats/3_PD/CL/sub-40010/eeg/sub-40010_rs_eeg.set 26_410_1_1 3_PD 410 (128, 171500)\n",
      "Cannot read file at path /3_PD/AR/sub-40010/eeg/s40010_AR_PD_reject.set\n",
      "Cannot read file at path /3_PD/CL/sub-40011/eeg/s40011_CH_PD_reject.set\n",
      "Cannot read file at path /3_PD/AR/sub-40011/eeg/s40011_AR_PD_reject.set\n"
     ]
    },
    {
     "name": "stderr",
     "output_type": "stream",
     "text": [
      "/tmp/ipykernel_2331099/1742952222.py:17: RuntimeWarning: Data file name in EEG.data (s6_sub-100012_rs_eeg.fdt) is incorrect, the file name must have changed on disk, using the correct file name (sub-40012_rs_eeg.fdt).\n",
      "  data = mne.io.read_raw_eeglab(path, preload=True, verbose=False)\n"
     ]
    },
    {
     "name": "stdout",
     "output_type": "stream",
     "text": [
      "/data/zanola/BrainLats/3_PD/CL/sub-40012/eeg/sub-40012_rs_eeg.set 26_412_1_1 3_PD 412 (128, 225000)\n",
      "Cannot read file at path /3_PD/AR/sub-40012/eeg/s40012_AR_PD_reject.set\n",
      "Cannot read file at path /3_PD/AR/sub-40013/eeg/s40013_AR_PD_reject.set\n",
      "Cannot read file at path /3_PD/CL/sub-40015/eeg/s00415_CH_PD_reject.set\n"
     ]
    },
    {
     "name": "stderr",
     "output_type": "stream",
     "text": [
      "/tmp/ipykernel_2331099/1742952222.py:17: RuntimeWarning: Data file name in EEG.data (s6_sub-100016_rs_eeg.fdt) is incorrect, the file name must have changed on disk, using the correct file name (sub-40016_rs_eeg.fdt).\n",
      "  data = mne.io.read_raw_eeglab(path, preload=True, verbose=False)\n"
     ]
    },
    {
     "name": "stdout",
     "output_type": "stream",
     "text": [
      "/data/zanola/BrainLats/3_PD/CL/sub-40016/eeg/sub-40016_rs_eeg.set 26_416_1_1 3_PD 416 (128, 183000)\n"
     ]
    },
    {
     "name": "stderr",
     "output_type": "stream",
     "text": [
      "/tmp/ipykernel_2331099/1742952222.py:17: RuntimeWarning: Data file name in EEG.data (s6_sub-100017_rs_eeg.fdt) is incorrect, the file name must have changed on disk, using the correct file name (sub-40017_rs_eeg.fdt).\n",
      "  data = mne.io.read_raw_eeglab(path, preload=True, verbose=False)\n"
     ]
    },
    {
     "name": "stdout",
     "output_type": "stream",
     "text": [
      "/data/zanola/BrainLats/3_PD/CL/sub-40017/eeg/sub-40017_rs_eeg.set 26_417_1_1 3_PD 417 (128, 121000)\n"
     ]
    },
    {
     "name": "stderr",
     "output_type": "stream",
     "text": [
      "/tmp/ipykernel_2331099/1742952222.py:17: RuntimeWarning: Data file name in EEG.data (s6_sub-100018_rs_eeg.fdt) is incorrect, the file name must have changed on disk, using the correct file name (sub-40018_rs_eeg.fdt).\n",
      "  data = mne.io.read_raw_eeglab(path, preload=True, verbose=False)\n"
     ]
    },
    {
     "name": "stdout",
     "output_type": "stream",
     "text": [
      "/data/zanola/BrainLats/3_PD/CL/sub-40018/eeg/sub-40018_rs_eeg.set 26_418_1_1 3_PD 418 (128, 208000)\n"
     ]
    },
    {
     "name": "stderr",
     "output_type": "stream",
     "text": [
      "/tmp/ipykernel_2331099/1742952222.py:17: RuntimeWarning: Data file name in EEG.data (s6_sub-100019_rs_eeg.fdt) is incorrect, the file name must have changed on disk, using the correct file name (sub-40019_rs_eeg.fdt).\n",
      "  data = mne.io.read_raw_eeglab(path, preload=True, verbose=False)\n"
     ]
    },
    {
     "name": "stdout",
     "output_type": "stream",
     "text": [
      "/data/zanola/BrainLats/3_PD/CL/sub-40019/eeg/sub-40019_rs_eeg.set 26_419_1_1 3_PD 419 (128, 192750)\n"
     ]
    },
    {
     "name": "stderr",
     "output_type": "stream",
     "text": [
      "/tmp/ipykernel_2331099/1742952222.py:17: RuntimeWarning: Data file name in EEG.data (s6_sub-100020_rs_eeg.fdt) is incorrect, the file name must have changed on disk, using the correct file name (sub-40020_rs_eeg.fdt).\n",
      "  data = mne.io.read_raw_eeglab(path, preload=True, verbose=False)\n"
     ]
    },
    {
     "name": "stdout",
     "output_type": "stream",
     "text": [
      "/data/zanola/BrainLats/3_PD/CL/sub-40020/eeg/sub-40020_rs_eeg.set 26_420_1_1 3_PD 420 (128, 121000)\n"
     ]
    },
    {
     "name": "stderr",
     "output_type": "stream",
     "text": [
      "/tmp/ipykernel_2331099/1742952222.py:17: RuntimeWarning: Data file name in EEG.data (s6_sub-100021_rs_eeg.fdt) is incorrect, the file name must have changed on disk, using the correct file name (sub-40021_rs_eeg.fdt).\n",
      "  data = mne.io.read_raw_eeglab(path, preload=True, verbose=False)\n"
     ]
    },
    {
     "name": "stdout",
     "output_type": "stream",
     "text": [
      "/data/zanola/BrainLats/3_PD/CL/sub-40021/eeg/sub-40021_rs_eeg.set 26_421_1_1 3_PD 421 (128, 270500)\n"
     ]
    },
    {
     "name": "stderr",
     "output_type": "stream",
     "text": [
      "/tmp/ipykernel_2331099/1742952222.py:17: RuntimeWarning: Data file name in EEG.data (s6_sub-100022_rs_eeg.fdt) is incorrect, the file name must have changed on disk, using the correct file name (sub-40022_rs_eeg.fdt).\n",
      "  data = mne.io.read_raw_eeglab(path, preload=True, verbose=False)\n"
     ]
    },
    {
     "name": "stdout",
     "output_type": "stream",
     "text": [
      "/data/zanola/BrainLats/3_PD/CL/sub-40022/eeg/sub-40022_rs_eeg.set 26_422_1_1 3_PD 422 (128, 162750)\n"
     ]
    },
    {
     "name": "stderr",
     "output_type": "stream",
     "text": [
      "/tmp/ipykernel_2331099/1742952222.py:17: RuntimeWarning: Data file name in EEG.data (s6_sub-100023_rs_eeg.fdt) is incorrect, the file name must have changed on disk, using the correct file name (sub-40023_rs_eeg.fdt).\n",
      "  data = mne.io.read_raw_eeglab(path, preload=True, verbose=False)\n"
     ]
    },
    {
     "name": "stdout",
     "output_type": "stream",
     "text": [
      "/data/zanola/BrainLats/3_PD/CL/sub-40023/eeg/sub-40023_rs_eeg.set 26_423_1_1 3_PD 423 (128, 113000)\n"
     ]
    },
    {
     "name": "stderr",
     "output_type": "stream",
     "text": [
      "/tmp/ipykernel_2331099/1742952222.py:17: RuntimeWarning: Data file name in EEG.data (s6_sub-100024_rs_eeg.fdt) is incorrect, the file name must have changed on disk, using the correct file name (sub-40024_rs_eeg.fdt).\n",
      "  data = mne.io.read_raw_eeglab(path, preload=True, verbose=False)\n"
     ]
    },
    {
     "name": "stdout",
     "output_type": "stream",
     "text": [
      "/data/zanola/BrainLats/3_PD/CL/sub-40024/eeg/sub-40024_rs_eeg.set 26_424_1_1 3_PD 424 (128, 219250)\n"
     ]
    },
    {
     "name": "stderr",
     "output_type": "stream",
     "text": [
      "/tmp/ipykernel_2331099/1742952222.py:17: RuntimeWarning: Data file name in EEG.data (s6_sub-100025_rs_eeg.fdt) is incorrect, the file name must have changed on disk, using the correct file name (sub-40025_rs_eeg.fdt).\n",
      "  data = mne.io.read_raw_eeglab(path, preload=True, verbose=False)\n"
     ]
    },
    {
     "name": "stdout",
     "output_type": "stream",
     "text": [
      "/data/zanola/BrainLats/3_PD/CL/sub-40025/eeg/sub-40025_rs_eeg.set 26_425_1_1 3_PD 425 (128, 162500)\n"
     ]
    },
    {
     "name": "stderr",
     "output_type": "stream",
     "text": [
      "/tmp/ipykernel_2331099/1742952222.py:17: RuntimeWarning: Data file name in EEG.data (s6_sub-100026_rs_eeg.fdt) is incorrect, the file name must have changed on disk, using the correct file name (sub-40026_rs_eeg.fdt).\n",
      "  data = mne.io.read_raw_eeglab(path, preload=True, verbose=False)\n"
     ]
    },
    {
     "name": "stdout",
     "output_type": "stream",
     "text": [
      "/data/zanola/BrainLats/3_PD/CL/sub-40026/eeg/sub-40026_rs_eeg.set 26_426_1_1 3_PD 426 (128, 114000)\n"
     ]
    },
    {
     "name": "stderr",
     "output_type": "stream",
     "text": [
      "/tmp/ipykernel_2331099/1742952222.py:17: RuntimeWarning: Data file name in EEG.data (s6_sub-10001_rs_eeg.fdt) is incorrect, the file name must have changed on disk, using the correct file name (suj_509_rs_eeg.fdt).\n",
      "  data = mne.io.read_raw_eeglab(path, preload=True, verbose=False)\n"
     ]
    },
    {
     "name": "stdout",
     "output_type": "stream",
     "text": [
      "/data/zanola/BrainLats/4_MS/AR/suj_509/eeg/suj_509_rs_eeg.set 26_509_1_1 4_MS 509 (128, 106500)\n"
     ]
    },
    {
     "name": "stderr",
     "output_type": "stream",
     "text": [
      "/tmp/ipykernel_2331099/1742952222.py:17: RuntimeWarning: Data file name in EEG.data (s6_sub-10003_rs_eeg.fdt) is incorrect, the file name must have changed on disk, using the correct file name (suj_512_rs_eeg.fdt).\n",
      "  data = mne.io.read_raw_eeglab(path, preload=True, verbose=False)\n"
     ]
    },
    {
     "name": "stdout",
     "output_type": "stream",
     "text": [
      "/data/zanola/BrainLats/4_MS/AR/suj_512/eeg/suj_512_rs_eeg.set 26_512_1_1 4_MS 512 (128, 114500)\n"
     ]
    },
    {
     "name": "stderr",
     "output_type": "stream",
     "text": [
      "/tmp/ipykernel_2331099/1742952222.py:17: RuntimeWarning: Data file name in EEG.data (s6_sub-10004_rs_eeg.fdt) is incorrect, the file name must have changed on disk, using the correct file name (suj_513_rs_eeg.fdt).\n",
      "  data = mne.io.read_raw_eeglab(path, preload=True, verbose=False)\n"
     ]
    },
    {
     "name": "stdout",
     "output_type": "stream",
     "text": [
      "/data/zanola/BrainLats/4_MS/AR/suj_513/eeg/suj_513_rs_eeg.set 26_513_1_1 4_MS 513 (128, 108250)\n"
     ]
    },
    {
     "name": "stderr",
     "output_type": "stream",
     "text": [
      "/tmp/ipykernel_2331099/1742952222.py:17: RuntimeWarning: Data file name in EEG.data (s6_sub-10002_rs_eeg.fdt) is incorrect, the file name must have changed on disk, using the correct file name (suj_514_rs_eeg.fdt).\n",
      "  data = mne.io.read_raw_eeglab(path, preload=True, verbose=False)\n"
     ]
    },
    {
     "name": "stdout",
     "output_type": "stream",
     "text": [
      "/data/zanola/BrainLats/4_MS/AR/suj_514/eeg/suj_514_rs_eeg.set 26_514_1_1 4_MS 514 (128, 107500)\n"
     ]
    },
    {
     "name": "stderr",
     "output_type": "stream",
     "text": [
      "/tmp/ipykernel_2331099/1742952222.py:17: RuntimeWarning: Data file name in EEG.data (s6_sub-10005_rs_eeg.fdt) is incorrect, the file name must have changed on disk, using the correct file name (suj_515_rs_eeg.fdt).\n",
      "  data = mne.io.read_raw_eeglab(path, preload=True, verbose=False)\n"
     ]
    },
    {
     "name": "stdout",
     "output_type": "stream",
     "text": [
      "/data/zanola/BrainLats/4_MS/AR/suj_515/eeg/suj_515_rs_eeg.set 26_515_1_1 4_MS 515 (128, 112000)\n"
     ]
    },
    {
     "name": "stderr",
     "output_type": "stream",
     "text": [
      "/tmp/ipykernel_2331099/1742952222.py:17: RuntimeWarning: Data file name in EEG.data (s6_sub-10006_rs_eeg.fdt) is incorrect, the file name must have changed on disk, using the correct file name (suj_516_rs_eeg.fdt).\n",
      "  data = mne.io.read_raw_eeglab(path, preload=True, verbose=False)\n"
     ]
    },
    {
     "name": "stdout",
     "output_type": "stream",
     "text": [
      "/data/zanola/BrainLats/4_MS/AR/suj_516/eeg/suj_516_rs_eeg.set 26_516_1_1 4_MS 516 (128, 106000)\n"
     ]
    },
    {
     "name": "stderr",
     "output_type": "stream",
     "text": [
      "/tmp/ipykernel_2331099/1742952222.py:17: RuntimeWarning: Data file name in EEG.data (s6_sub-10007_rs_eeg.fdt) is incorrect, the file name must have changed on disk, using the correct file name (suj_517_rs_eeg.fdt).\n",
      "  data = mne.io.read_raw_eeglab(path, preload=True, verbose=False)\n"
     ]
    },
    {
     "name": "stdout",
     "output_type": "stream",
     "text": [
      "/data/zanola/BrainLats/4_MS/AR/suj_517/eeg/suj_517_rs_eeg.set 26_517_1_1 4_MS 517 (128, 107250)\n"
     ]
    },
    {
     "name": "stderr",
     "output_type": "stream",
     "text": [
      "/tmp/ipykernel_2331099/1742952222.py:17: RuntimeWarning: Data file name in EEG.data (s6_sub-10008_rs_eeg.fdt) is incorrect, the file name must have changed on disk, using the correct file name (suj_518_rs_eeg.fdt).\n",
      "  data = mne.io.read_raw_eeglab(path, preload=True, verbose=False)\n"
     ]
    },
    {
     "name": "stdout",
     "output_type": "stream",
     "text": [
      "/data/zanola/BrainLats/4_MS/AR/suj_518/eeg/suj_518_rs_eeg.set 26_518_1_1 4_MS 518 (128, 105250)\n"
     ]
    },
    {
     "name": "stderr",
     "output_type": "stream",
     "text": [
      "/tmp/ipykernel_2331099/1742952222.py:17: RuntimeWarning: Data file name in EEG.data (s6_sub-10009_rs_eeg.fdt) is incorrect, the file name must have changed on disk, using the correct file name (suj_519_rs_eeg.fdt).\n",
      "  data = mne.io.read_raw_eeglab(path, preload=True, verbose=False)\n"
     ]
    },
    {
     "name": "stdout",
     "output_type": "stream",
     "text": [
      "/data/zanola/BrainLats/4_MS/AR/suj_519/eeg/suj_519_rs_eeg.set 26_519_1_1 4_MS 519 (128, 105750)\n"
     ]
    },
    {
     "name": "stderr",
     "output_type": "stream",
     "text": [
      "/tmp/ipykernel_2331099/1742952222.py:17: RuntimeWarning: Data file name in EEG.data (s6_sub-100010_rs_eeg.fdt) is incorrect, the file name must have changed on disk, using the correct file name (suj_520_rs_eeg.fdt).\n",
      "  data = mne.io.read_raw_eeglab(path, preload=True, verbose=False)\n"
     ]
    },
    {
     "name": "stdout",
     "output_type": "stream",
     "text": [
      "/data/zanola/BrainLats/4_MS/AR/suj_520/eeg/suj_520_rs_eeg.set 26_520_1_1 4_MS 520 (128, 106250)\n"
     ]
    },
    {
     "name": "stderr",
     "output_type": "stream",
     "text": [
      "/tmp/ipykernel_2331099/1742952222.py:17: RuntimeWarning: Data file name in EEG.data (s6_sub-100011_rs_eeg.fdt) is incorrect, the file name must have changed on disk, using the correct file name (suj_521_rs_eeg.fdt).\n",
      "  data = mne.io.read_raw_eeglab(path, preload=True, verbose=False)\n"
     ]
    },
    {
     "name": "stdout",
     "output_type": "stream",
     "text": [
      "/data/zanola/BrainLats/4_MS/AR/suj_521/eeg/suj_521_rs_eeg.set 26_521_1_1 4_MS 521 (128, 104915)\n"
     ]
    },
    {
     "name": "stderr",
     "output_type": "stream",
     "text": [
      "/tmp/ipykernel_2331099/1742952222.py:17: RuntimeWarning: Data file name in EEG.data (s6_sub-100012_rs_eeg.fdt) is incorrect, the file name must have changed on disk, using the correct file name (suj_522_rs_eeg.fdt).\n",
      "  data = mne.io.read_raw_eeglab(path, preload=True, verbose=False)\n"
     ]
    },
    {
     "name": "stdout",
     "output_type": "stream",
     "text": [
      "/data/zanola/BrainLats/4_MS/AR/suj_522/eeg/suj_522_rs_eeg.set 26_522_1_1 4_MS 522 (128, 106250)\n"
     ]
    },
    {
     "name": "stderr",
     "output_type": "stream",
     "text": [
      "/tmp/ipykernel_2331099/1742952222.py:17: RuntimeWarning: Data file name in EEG.data (s6_sub-100014_rs_eeg.fdt) is incorrect, the file name must have changed on disk, using the correct file name (suj_524_rs_eeg.fdt).\n",
      "  data = mne.io.read_raw_eeglab(path, preload=True, verbose=False)\n"
     ]
    },
    {
     "name": "stdout",
     "output_type": "stream",
     "text": [
      "/data/zanola/BrainLats/4_MS/AR/suj_524/eeg/suj_524_rs_eeg.set 26_524_1_1 4_MS 524 (128, 106000)\n"
     ]
    },
    {
     "name": "stderr",
     "output_type": "stream",
     "text": [
      "/tmp/ipykernel_2331099/1742952222.py:17: RuntimeWarning: Data file name in EEG.data (s6_sub-100015_rs_eeg.fdt) is incorrect, the file name must have changed on disk, using the correct file name (suj_525_rs_eeg.fdt).\n",
      "  data = mne.io.read_raw_eeglab(path, preload=True, verbose=False)\n"
     ]
    },
    {
     "name": "stdout",
     "output_type": "stream",
     "text": [
      "/data/zanola/BrainLats/4_MS/AR/suj_525/eeg/suj_525_rs_eeg.set 26_525_1_1 4_MS 525 (128, 106500)\n"
     ]
    },
    {
     "name": "stderr",
     "output_type": "stream",
     "text": [
      "/tmp/ipykernel_2331099/1742952222.py:17: RuntimeWarning: Data file name in EEG.data (s6_sub-100016_rs_eeg.fdt) is incorrect, the file name must have changed on disk, using the correct file name (suj_526_rs_eeg.fdt).\n",
      "  data = mne.io.read_raw_eeglab(path, preload=True, verbose=False)\n"
     ]
    },
    {
     "name": "stdout",
     "output_type": "stream",
     "text": [
      "/data/zanola/BrainLats/4_MS/AR/suj_526/eeg/suj_526_rs_eeg.set 26_526_1_1 4_MS 526 (128, 106000)\n"
     ]
    },
    {
     "name": "stderr",
     "output_type": "stream",
     "text": [
      "/tmp/ipykernel_2331099/1742952222.py:17: RuntimeWarning: Data file name in EEG.data (s6_sub-100017_rs_eeg.fdt) is incorrect, the file name must have changed on disk, using the correct file name (suj_527_rs_eeg.fdt).\n",
      "  data = mne.io.read_raw_eeglab(path, preload=True, verbose=False)\n"
     ]
    },
    {
     "name": "stdout",
     "output_type": "stream",
     "text": [
      "/data/zanola/BrainLats/4_MS/AR/suj_527/eeg/suj_527_rs_eeg.set 26_527_1_1 4_MS 527 (128, 104250)\n"
     ]
    },
    {
     "name": "stderr",
     "output_type": "stream",
     "text": [
      "/tmp/ipykernel_2331099/1742952222.py:17: RuntimeWarning: Data file name in EEG.data (s6_sub-100018_rs_eeg.fdt) is incorrect, the file name must have changed on disk, using the correct file name (suj_528_rs_eeg.fdt).\n",
      "  data = mne.io.read_raw_eeglab(path, preload=True, verbose=False)\n"
     ]
    },
    {
     "name": "stdout",
     "output_type": "stream",
     "text": [
      "/data/zanola/BrainLats/4_MS/AR/suj_528/eeg/suj_528_rs_eeg.set 26_528_1_1 4_MS 528 (128, 106000)\n"
     ]
    },
    {
     "name": "stderr",
     "output_type": "stream",
     "text": [
      "/tmp/ipykernel_2331099/1742952222.py:17: RuntimeWarning: Data file name in EEG.data (s6_sub-100019_rs_eeg.fdt) is incorrect, the file name must have changed on disk, using the correct file name (suj_529_rs_eeg.fdt).\n",
      "  data = mne.io.read_raw_eeglab(path, preload=True, verbose=False)\n"
     ]
    },
    {
     "name": "stdout",
     "output_type": "stream",
     "text": [
      "/data/zanola/BrainLats/4_MS/AR/suj_529/eeg/suj_529_rs_eeg.set 26_529_1_1 4_MS 529 (128, 115500)\n"
     ]
    },
    {
     "name": "stderr",
     "output_type": "stream",
     "text": [
      "/tmp/ipykernel_2331099/1742952222.py:17: RuntimeWarning: Data file name in EEG.data (s6_sub-100020_rs_eeg.fdt) is incorrect, the file name must have changed on disk, using the correct file name (suj_531_rs_eeg.fdt).\n",
      "  data = mne.io.read_raw_eeglab(path, preload=True, verbose=False)\n"
     ]
    },
    {
     "name": "stdout",
     "output_type": "stream",
     "text": [
      "/data/zanola/BrainLats/4_MS/AR/suj_531/eeg/suj_531_rs_eeg.set 26_531_1_1 4_MS 531 (128, 106000)\n"
     ]
    },
    {
     "name": "stderr",
     "output_type": "stream",
     "text": [
      "/tmp/ipykernel_2331099/1742952222.py:17: RuntimeWarning: Data file name in EEG.data (s6_sub-100021_rs_eeg.fdt) is incorrect, the file name must have changed on disk, using the correct file name (suj_532_rs_eeg.fdt).\n",
      "  data = mne.io.read_raw_eeglab(path, preload=True, verbose=False)\n"
     ]
    },
    {
     "name": "stdout",
     "output_type": "stream",
     "text": [
      "/data/zanola/BrainLats/4_MS/AR/suj_532/eeg/suj_532_rs_eeg.set 26_532_1_1 4_MS 532 (128, 105660)\n"
     ]
    },
    {
     "name": "stderr",
     "output_type": "stream",
     "text": [
      "/tmp/ipykernel_2331099/1742952222.py:17: RuntimeWarning: Data file name in EEG.data (s6_sub-100022_rs_eeg.fdt) is incorrect, the file name must have changed on disk, using the correct file name (suj_533_rs_eeg.fdt).\n",
      "  data = mne.io.read_raw_eeglab(path, preload=True, verbose=False)\n"
     ]
    },
    {
     "name": "stdout",
     "output_type": "stream",
     "text": [
      "/data/zanola/BrainLats/4_MS/AR/suj_533/eeg/suj_533_rs_eeg.set 26_533_1_1 4_MS 533 (128, 105250)\n"
     ]
    },
    {
     "name": "stderr",
     "output_type": "stream",
     "text": [
      "/tmp/ipykernel_2331099/1742952222.py:17: RuntimeWarning: Data file name in EEG.data (s6_sub-100023_rs_eeg.fdt) is incorrect, the file name must have changed on disk, using the correct file name (suj_534_rs_eeg.fdt).\n",
      "  data = mne.io.read_raw_eeglab(path, preload=True, verbose=False)\n"
     ]
    },
    {
     "name": "stdout",
     "output_type": "stream",
     "text": [
      "/data/zanola/BrainLats/4_MS/AR/suj_534/eeg/suj_534_rs_eeg.set 26_534_1_1 4_MS 534 (128, 106750)\n"
     ]
    },
    {
     "name": "stderr",
     "output_type": "stream",
     "text": [
      "/tmp/ipykernel_2331099/1742952222.py:17: RuntimeWarning: Data file name in EEG.data (s6_sub-100024_rs_eeg.fdt) is incorrect, the file name must have changed on disk, using the correct file name (suj_535_rs_eeg.fdt).\n",
      "  data = mne.io.read_raw_eeglab(path, preload=True, verbose=False)\n"
     ]
    },
    {
     "name": "stdout",
     "output_type": "stream",
     "text": [
      "/data/zanola/BrainLats/4_MS/AR/suj_535/eeg/suj_535_rs_eeg.set 26_535_1_1 4_MS 535 (128, 109250)\n",
      "/data/zanola/BrainLats/5_HC/CL/sub-10001/eeg/s6_sub-10001_rs_eeg.set 26_101_1_1 5_HC 101 (128, 141954)\n",
      "/data/zanola/BrainLats/5_HC/AR/sub-10002/eeg/s6_sub-10002_rs_eeg.set 26_102_1_1 5_HC 102 (128, 91106)\n",
      "/data/zanola/BrainLats/5_HC/AR/sub-10003/eeg/s6_sub-10003_rs_eeg.set 26_103_1_1 5_HC 103 (128, 145163)\n",
      "/data/zanola/BrainLats/5_HC/AR/sub-10004/eeg/s6_sub-10004_rs_eeg.set 26_104_1_1 5_HC 104 (128, 101771)\n",
      "/data/zanola/BrainLats/5_HC/CL/sub-10005/eeg/s6_sub-10005_rs_eeg.set 26_105_1_1 5_HC 105 (128, 145339)\n",
      "/data/zanola/BrainLats/5_HC/AR/sub-10006/eeg/s6_sub-10006_rs_eeg.set 26_106_1_1 5_HC 106 (128, 109321)\n",
      "/data/zanola/BrainLats/5_HC/AR/sub-10007/eeg/s6_sub-10007_rs_eeg.set 26_107_1_1 5_HC 107 (128, 89363)\n",
      "/data/zanola/BrainLats/5_HC/CL/sub-10008/eeg/s6_sub-10008_rs_eeg.set 26_108_1_1 5_HC 108 (128, 149574)\n",
      "/data/zanola/BrainLats/5_HC/AR/sub-10009/eeg/s6_sub-10009_rs_eeg.set 26_109_1_1 5_HC 109 (128, 94271)\n",
      "/data/zanola/BrainLats/5_HC/CL/sub-100010/eeg/s6_sub-100010_rs_eeg.set 26_110_1_1 5_HC 110 (128, 150648)\n",
      "/data/zanola/BrainLats/5_HC/CL/sub-100011/eeg/s6_sub-100011_rs_eeg.set 26_111_1_1 5_HC 111 (128, 151049)\n",
      "/data/zanola/BrainLats/5_HC/AR/sub-100012/eeg/s6_sub-100012_rs_eeg.set 26_112_1_1 5_HC 112 (128, 86397)\n",
      "Cannot read file at path /5_HC/CL/sub-100013/eeg/s6_sub-100013_rs_eeg.set\n",
      "/data/zanola/BrainLats/5_HC/CL/sub-100014/eeg/s6_sub-100014_rs_eeg.set 26_114_1_1 5_HC 114 (128, 131843)\n",
      "/data/zanola/BrainLats/5_HC/AR/sub-100015/eeg/s6_sub-100015_rs_eeg.set 26_115_1_1 5_HC 115 (128, 102536)\n",
      "/data/zanola/BrainLats/5_HC/CL/sub-100016/eeg/s6_sub-100016_rs_eeg.set 26_116_1_1 5_HC 116 (128, 138059)\n",
      "/data/zanola/BrainLats/5_HC/CL/sub-100017/eeg/s6_sub-100017_rs_eeg.set 26_117_1_1 5_HC 117 (128, 147953)\n",
      "/data/zanola/BrainLats/5_HC/AR/sub-100018/eeg/s6_sub-100018_rs_eeg.set 26_118_1_1 5_HC 118 (128, 90562)\n",
      "Cannot read file at path /5_HC/CL/sub-100019/eeg/s6_sub-100019_rs_eeg.set\n",
      "/data/zanola/BrainLats/5_HC/AR/sub-100020/eeg/s6_sub-100020_rs_eeg.set 26_120_1_1 5_HC 120 (128, 82148)\n",
      "/data/zanola/BrainLats/5_HC/CL/sub-100021/eeg/s6_sub-100021_rs_eeg.set 26_121_1_1 5_HC 121 (128, 142640)\n",
      "/data/zanola/BrainLats/5_HC/AR/sub-100022/eeg/s6_sub-100022_rs_eeg.set 26_122_1_1 5_HC 122 (128, 111399)\n",
      "Cannot read file at path /5_HC/CL/sub-100023/eeg/s6_sub-100023_rs_eeg.set\n",
      "/data/zanola/BrainLats/5_HC/AR/sub-100024/eeg/s6_sub-100024_rs_eeg.set 26_124_1_1 5_HC 124 (128, 124014)\n",
      "Cannot read file at path /5_HC/CL/sub-100025/eeg/s6_sub-100025_rs_eeg.set\n",
      "/data/zanola/BrainLats/5_HC/AR/sub-100026/eeg/s6_sub-100026_rs_eeg.set 26_126_1_1 5_HC 126 (128, 102708)\n",
      "Cannot read file at path /5_HC/CL/sub-100027/eeg/s6_sub-100027_rs_eeg.set\n",
      "/data/zanola/BrainLats/5_HC/AR/sub-100028/eeg/s6_sub-100028_rs_eeg.set 26_128_1_1 5_HC 128 (128, 72091)\n",
      "/data/zanola/BrainLats/5_HC/CL/sub-100029/eeg/s6_sub-100029_rs_eeg.set 26_129_1_1 5_HC 129 (128, 165825)\n",
      "/data/zanola/BrainLats/5_HC/AR/sub-100030/eeg/s6_sub-100030_rs_eeg.set 26_130_1_1 5_HC 130 (128, 91450)\n",
      "/data/zanola/BrainLats/5_HC/AR/sub-100031/eeg/s6_sub-100031_rs_eeg.set 26_131_1_1 5_HC 131 (128, 89539)\n",
      "Cannot read file at path /5_HC/CL/sub-100032/eeg/s6_sub-100032_rs_eeg.set\n",
      "/data/zanola/BrainLats/5_HC/AR/sub-100033/eeg/s6_sub-100033_rs_eeg.set 26_133_1_1 5_HC 133 (128, 89684)\n",
      "/data/zanola/BrainLats/5_HC/CL/sub-100034/eeg/s6_sub-100034_rs_eeg.set 26_134_1_1 5_HC 134 (128, 147549)\n",
      "/data/zanola/BrainLats/5_HC/AR/sub-100035/eeg/s6_sub-100035_rs_eeg.set 26_135_1_1 5_HC 135 (128, 67021)\n",
      "Cannot read file at path /5_HC/CL/sub-100036/eeg/s6_sub-100036_rs_eeg.set\n",
      "/data/zanola/BrainLats/5_HC/CL/sub-100037/eeg/s6_sub-100037_rs_eeg.set 26_137_1_1 5_HC 137 (128, 136040)\n",
      "/data/zanola/BrainLats/5_HC/AR/sub-100038/eeg/s6_sub-100038_rs_eeg.set 26_138_1_1 5_HC 138 (128, 86495)\n",
      "Cannot read file at path /5_HC/CL/sub-100039/eeg/s6_sub-100039_rs_eeg.set\n",
      "Cannot read file at path /5_HC/CL/sub-100040/eeg/s6_sub-100040_rs_eeg.set\n",
      "Cannot read file at path /5_HC/CL/sub-100041/eeg/s6_sub-100041_rs_eeg.set\n",
      "Cannot read file at path /5_HC/CL/sub-100042/eeg/s6_sub-100042_rs_eeg.set\n",
      "/data/zanola/BrainLats/5_HC/CL/sub-100043/eeg/s6_sub-100043_rs_eeg.set 26_143_1_1 5_HC 143 (128, 147900)\n",
      "Cannot read file at path /5_HC/CL/sub-100044/eeg/s6_sub-100044_rs_eeg.set\n",
      "Cannot read file at path /5_HC/CL/sub-100045/eeg/s6_sub-100045_rs_eeg.set\n",
      "Cannot read file at path /5_HC/CL/sub-100046/eeg/s6_sub-100046_rs_eeg.set\n"
     ]
    }
   ],
   "source": [
    "root_path = '/data/zanola/'\n",
    "save_path = '/data/zanola/BrainLats_pickle/icasr/'\n",
    "ds_code = 'brainlat'\n",
    "conv = {'5_HC':0,'2_bvFTD':1,'1_AD':2, '3_PD': 3, '4_MS': 4}\n",
    "\n",
    "eegpath = glob.glob(root_path + 'BrainLats/**/**/**/**/*.set')\n",
    "eegpath = sorted(\n",
    "    eegpath, \n",
    "    key = lambda x: (int(x.split(os.sep)[4][0]), int(x.split(os.sep)[6][-2:]))\n",
    ")\n",
    "\n",
    "path_problem = []\n",
    "print(\"start reading EEG from brainlat\")\n",
    "for path in eegpath:\n",
    "    try:\n",
    "        # Load EEG from .set\n",
    "        data = mne.io.read_raw_eeglab(path, preload=True, verbose=False)\n",
    "\n",
    "        # resample to 250 HZ\n",
    "        data = data.resample(250)\n",
    "\n",
    "        # extract array and select only 61 channels from 10/10 template\n",
    "        data = data.get_data()\n",
    "        # data = data[channel_extraction_order]\n",
    "\n",
    "        # remove first 8 and last 8 seconds\n",
    "        # data = data[:,250*8:-250*8]\n",
    "\n",
    "        # label is an integer from 0 to 4\n",
    "        label = path.split(os.sep)[4]\n",
    "\n",
    "        # subject id is a 3-digit integer\n",
    "        # label+1 - last 2 digits of the original subject ID\n",
    "        subject_id = str(conv[label]+1) + path.split(os.sep)[6][-2:]\n",
    "\n",
    "        # add dataset ID = 26 and pickle extension\n",
    "        file_name = \"_\".join( (\"26\", subject_id, \"1\", \"1\") )\n",
    "\n",
    "\n",
    "        # double-check print\n",
    "        print(path, file_name, label, subject_id, data.shape)\n",
    "        \n",
    "        # store pickle as usual\n",
    "        eeg   = {'data': data, 'label': conv[label] }\n",
    "        with open(save_path + file_name + '.pickle', 'wb') as handle:\n",
    "            pickle.dump(eeg, handle, protocol = pickle.HIGHEST_PROTOCOL)\n",
    "    \n",
    "    except Exception:\n",
    "        # Some EEGs are broken. We keep track of them\n",
    "        # ask brainlat curators why they included rejected or broken EEG\n",
    "        # I don't know\n",
    "        print(f\"Cannot read file at path {path[22:]}\")\n",
    "        path_problem.append(path)"
   ]
  },
  {
   "cell_type": "code",
   "execution_count": 59,
   "id": "d8dd92fd",
   "metadata": {},
   "outputs": [
    {
     "data": {
      "text/plain": [
       "'1_AD'"
      ]
     },
     "execution_count": 59,
     "metadata": {},
     "output_type": "execute_result"
    }
   ],
   "source": [
    "label"
   ]
  },
  {
   "cell_type": "code",
   "execution_count": null,
   "id": "a501283b",
   "metadata": {},
   "outputs": [],
   "source": [
    "label = int(path.split(os.sep)[4][0])-1\n",
    "label"
   ]
  },
  {
   "cell_type": "code",
   "execution_count": null,
   "id": "31d6bbea",
   "metadata": {},
   "outputs": [],
   "source": [
    "path.split(os.sep)[3]"
   ]
  },
  {
   "cell_type": "code",
   "execution_count": 70,
   "id": "278b4c1a",
   "metadata": {},
   "outputs": [
    {
     "data": {
      "text/plain": [
       "32"
      ]
     },
     "execution_count": 70,
     "metadata": {},
     "output_type": "execute_result"
    }
   ],
   "source": [
    "        c_id = (list(range(1, 13)) +  # 001–012\n",
    "               [14, 15, 16, 17, 18, 20, 21, 22, 24, 26, 28, 29, 30, 31, 33, 34, 35, 37, 38, 43])\n",
    "        len(c_id)"
   ]
  },
  {
   "cell_type": "code",
   "execution_count": 71,
   "id": "bf2515da",
   "metadata": {},
   "outputs": [
    {
     "data": {
      "text/plain": [
       "19"
      ]
     },
     "execution_count": 71,
     "metadata": {},
     "output_type": "execute_result"
    }
   ],
   "source": [
    "b_id = list(range(101, 120))  # 101–119 inclusive\n",
    "len(b_id)"
   ]
  },
  {
   "cell_type": "code",
   "execution_count": 73,
   "id": "8abec8d4",
   "metadata": {},
   "outputs": [
    {
     "data": {
      "text/plain": [
       "[1,\n",
       " 2,\n",
       " 3,\n",
       " 4,\n",
       " 5,\n",
       " 6,\n",
       " 7,\n",
       " 8,\n",
       " 9,\n",
       " 10,\n",
       " 11,\n",
       " 12,\n",
       " 14,\n",
       " 15,\n",
       " 16,\n",
       " 17,\n",
       " 18,\n",
       " 20,\n",
       " 21,\n",
       " 22,\n",
       " 24,\n",
       " 26,\n",
       " 28,\n",
       " 29,\n",
       " 30,\n",
       " 31,\n",
       " 33,\n",
       " 34,\n",
       " 35,\n",
       " 37,\n",
       " 38,\n",
       " 43]"
      ]
     },
     "execution_count": 73,
     "metadata": {},
     "output_type": "execute_result"
    }
   ],
   "source": [
    "(list(range(1, 13)) +  # 001–012\n",
    "               [14, 15, 16, 17, 18, 20, 21, 22, 24, 26, 28, 29, 30, 31, 33, 34, 35, 37, 38, 43])"
   ]
  },
  {
   "cell_type": "code",
   "execution_count": 75,
   "id": "26cc673f",
   "metadata": {},
   "outputs": [],
   "source": [
    "c_id = [f\"{i:03}\" for i in (\n",
    "    list(range(1, 13)) +\n",
    "    [14, 15, 16, 17, 18, 20, 21, 22, 24, 26, 28, 29, 30, 31, 33, 34, 35, 37, 38, 43]\n",
    ")]"
   ]
  },
  {
   "cell_type": "code",
   "execution_count": 76,
   "id": "662dd043",
   "metadata": {},
   "outputs": [
    {
     "data": {
      "text/plain": [
       "['001',\n",
       " '002',\n",
       " '003',\n",
       " '004',\n",
       " '005',\n",
       " '006',\n",
       " '007',\n",
       " '008',\n",
       " '009',\n",
       " '010',\n",
       " '011',\n",
       " '012',\n",
       " '014',\n",
       " '015',\n",
       " '016',\n",
       " '017',\n",
       " '018',\n",
       " '020',\n",
       " '021',\n",
       " '022',\n",
       " '024',\n",
       " '026',\n",
       " '028',\n",
       " '029',\n",
       " '030',\n",
       " '031',\n",
       " '033',\n",
       " '034',\n",
       " '035',\n",
       " '037',\n",
       " '038',\n",
       " '043']"
      ]
     },
     "execution_count": 76,
     "metadata": {},
     "output_type": "execute_result"
    }
   ],
   "source": [
    "c_id"
   ]
  },
  {
   "cell_type": "code",
   "execution_count": null,
   "id": "12015194",
   "metadata": {},
   "outputs": [],
   "source": []
  }
 ],
 "metadata": {
  "kernelspec": {
   "display_name": "torch",
   "language": "python",
   "name": "python3"
  },
  "language_info": {
   "codemirror_mode": {
    "name": "ipython",
    "version": 3
   },
   "file_extension": ".py",
   "mimetype": "text/x-python",
   "name": "python",
   "nbconvert_exporter": "python",
   "pygments_lexer": "ipython3",
   "version": "3.12.2"
  }
 },
 "nbformat": 4,
 "nbformat_minor": 5
}
